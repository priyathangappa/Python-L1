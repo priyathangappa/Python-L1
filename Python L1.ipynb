{
 "cells": [
  {
   "cell_type": "markdown",
   "metadata": {},
   "source": [
    "1.\tGiven a list, url = [www.annauniv.edu, www.google.com, www.ndtv.com, www.website.org, www.bis.org.in, www.rbi.org.in]; Sort the list based on the top level domain (edu, com, org, in) using custom sorting"
   ]
  },
  {
   "cell_type": "code",
   "execution_count": 1,
   "metadata": {},
   "outputs": [
    {
     "name": "stdout",
     "output_type": "stream",
     "text": [
      "['www.annauniv.edu', 'www.google.com', 'www.ndtv.com', 'www.website.org', 'www.bis.org.in', 'www.rbi.org.in']\n"
     ]
    }
   ],
   "source": [
    "domain = ['edu', 'com', 'org', 'in']\n",
    "url =  ['www.google.com','www.website.org','www.annauniv.edu','www.ndtv.com',  'www.bis.org.in', 'www.rbi.org.in']\n",
    "\n",
    "def sort(domain,url):\n",
    "    SortedList=[]\n",
    "    for i in domain:\n",
    "        for j in url :\n",
    "            if j.endswith(i):\n",
    "                SortedList.append(j)\n",
    "    print(SortedList)\n",
    "sort(domain,url)    "
   ]
  },
  {
   "cell_type": "markdown",
   "metadata": {},
   "source": [
    "2.\tGiven a list of strings, return the count of the number of strings where the string length is 2 or more and the first and last chars of the string are the same.  <br>\n",
    "i.\t['axa', 'xyz', 'gg', 'x', 'yyy']<br>\n",
    "ii.\t['x', 'cd', 'cnc', 'kk']<br>\n",
    "iii.['bab', 'ce', 'cba', 'syanora']\n"
   ]
  },
  {
   "cell_type": "code",
   "execution_count": 2,
   "metadata": {},
   "outputs": [
    {
     "name": "stdout",
     "output_type": "stream",
     "text": [
      "3\n",
      "2\n",
      "1\n"
     ]
    }
   ],
   "source": [
    "#a = [i for i in input(\"enter : \").split(\",\")]\n",
    "\n",
    "list1 = ['axa', 'xyz', 'gg', 'x', 'yyy']\n",
    "list2 = ['x', 'cd', 'cnc', 'kk']\n",
    "list3 = ['bab', 'ce', 'cba', 'syanora']\n",
    "\n",
    "def count(a):\n",
    "    count=0\n",
    "    for i in a:\n",
    "        if (len(i)>=2) & (i[0]==i[-1]):\n",
    "            count +=1\n",
    "    print(count)    \n",
    "count(list1)\n",
    "count(list2)\n",
    "count(list3)"
   ]
  },
  {
   "cell_type": "markdown",
   "metadata": {},
   "source": [
    "3.\tGiven a list of strings, return a list with the strings in sorted order, except group all the strings that begin with 'x' first.  e.g. ['mix', 'xyz', 'apple', 'xanadu', 'aardvark'] yields\n",
    "['xanadu', 'xyz', 'aardvark', 'apple', 'mix']. \n",
    "Hint: this can be done by making 2 lists and sorting each of them before combining them.<br>\n",
    "i.\t['bbb', 'ccc', 'axx', 'xzz', 'xaa']<br>\n",
    "ii.\t['mix', 'xyz', 'apple', 'xanadu', 'aardvark']\n"
   ]
  },
  {
   "cell_type": "code",
   "execution_count": 3,
   "metadata": {},
   "outputs": [
    {
     "name": "stdout",
     "output_type": "stream",
     "text": [
      "['xzz', 'xaa', 'bbb', 'ccc', 'axx']\n",
      "['xyz', 'xanadu', 'mix', 'apple', 'aardvark']\n"
     ]
    }
   ],
   "source": [
    "\n",
    "def sort(List):\n",
    "    L1 = []\n",
    "    L2 = []\n",
    "\n",
    "    for i in List:\n",
    "        if (i[0]=='x'):\n",
    "            L1.append(i)\n",
    "        else:\n",
    "            L2.append(i)\n",
    "\n",
    "    L1.extend(L2)  \n",
    "\n",
    "    print(L1)\n",
    "\n",
    "sort(['bbb', 'ccc', 'axx', 'xzz', 'xaa'])\n",
    "sort(['mix', 'xyz', 'apple', 'xanadu', 'aardvark'])"
   ]
  },
  {
   "cell_type": "markdown",
   "metadata": {},
   "source": [
    "4.\tGiven a list of non-empty tuples, return a list sorted in increasing order by the last element in each tuple. \n",
    "e.g. [(1, 7), (1, 3), (3, 4, 5), (2, 2)] yields [(2, 2), (1, 3), (3, 4, 5), (1, 7)]<br>\n",
    "      Hint: use a custom key= function to extract the last element form each tuple.<br>\n",
    "i.\t [(1, 3), (3, 2), (2, 1)]<br>\n",
    "ii.\t[(1, 7), (1, 3), (3, 4, 5), (2, 2)]\n"
   ]
  },
  {
   "cell_type": "code",
   "execution_count": 4,
   "metadata": {},
   "outputs": [
    {
     "name": "stdout",
     "output_type": "stream",
     "text": [
      "[(2, 1), (3, 2), (1, 3)]\n",
      "[(2, 2), (1, 3), (3, 4, 5), (1, 7)]\n"
     ]
    }
   ],
   "source": [
    "tup1 =  [(1, 3), (3, 2), (2, 1)]\n",
    "tup2 =   [(1, 7), (1, 3), (3, 4, 5), (2, 2)]\n",
    "\n",
    "def Sort_Tuple(tup):  \n",
    "    tup.sort(key = lambda x: x[-1])  \n",
    "    return tup  \n",
    "       \n",
    "print(Sort_Tuple(tup1))  \n",
    "print(Sort_Tuple(tup2))  "
   ]
  },
  {
   "cell_type": "markdown",
   "metadata": {},
   "source": [
    "5.\tGiven a list of numbers, return a list where all adjacent == elements have been reduced to a single element, so [1, 2, 2, 3] returns [1, 2, 3]. You may create a new list or modify the passed in list.<br>\n",
    "i.\t [1, 2, 2, 3], [2, 2, 3, 3, 3]\n"
   ]
  },
  {
   "cell_type": "code",
   "execution_count": 5,
   "metadata": {},
   "outputs": [
    {
     "name": "stdout",
     "output_type": "stream",
     "text": [
      "Original List : [2, 3, 3, 4, 3, 4, 3] ---> new list : [2, 3, 4, 3, 4, 3]\n",
      "Original List : [1, 2, 2, 3] ---> new list : [1, 2, 3]\n",
      "Original List : [2, 2, 3, 3, 3] ---> new list : [2, 3]\n"
     ]
    }
   ],
   "source": [
    "lst1 = [2, 3, 3, 4, 3, 4, 3]\n",
    "lst2 = [1, 2, 2, 3]\n",
    "lst3 =  [2, 2, 3, 3, 3]\n",
    "\n",
    "def remove_adj(lst):\n",
    "    new_list = []\n",
    "    prev = None\n",
    "\n",
    "    for curr in lst:\n",
    "        if prev != curr:\n",
    "            new_list.append(curr)\n",
    "            prev = curr\n",
    "\n",
    "    print(f\"Original List : {lst} ---> new list : {new_list}\")    \n",
    "    \n",
    "remove_adj(lst1)\n",
    "remove_adj(lst2)\n",
    "remove_adj(lst3)"
   ]
  },
  {
   "cell_type": "markdown",
   "metadata": {},
   "source": [
    "6.\tWrite a function to print the information in the dictionary(bookstore) in the given format\n",
    "\n",
    "bookstore={\"New Arrivals\":{\"COOKING\":[\"Everyday Italian\",\"Giada De Laurentiis\",\"2005\",\"30.00\"],\n",
    "                           \"CHILDREN\":[\"Harry Potter”, J K. Rowling\",\"2005\",\"29.99\"],\n",
    "                           \"WEB\":[\"Learning XML\",\"Erik T. Ray\",\"2003\",\"39.95\"]}}\n",
    "\n",
    "\n",
    "BOOKSTORE<br>\n",
    "\n",
    "'Learning XML', 'Erik T. Ray', '2003', '39.95' <br> \n",
    "'Everyday Italian', 'Giada De Laurent is', '2005', '30.00'] <br>\n",
    " 'Harry Potter', 'J K. Rowling', '2005', '29.99']\n"
   ]
  },
  {
   "cell_type": "code",
   "execution_count": 6,
   "metadata": {},
   "outputs": [
    {
     "name": "stdout",
     "output_type": "stream",
     "text": [
      "['Everyday Italian', 'Giada De Laurentiis', '2005', '30.00']\n",
      "['Harry Potter', 'J K.Rowling', '2005', '29.99']\n",
      "['Learning XML', 'Erik T. Ray', '2003', '39.95']\n"
     ]
    }
   ],
   "source": [
    "bookstore = {\"New Arrivals\":{\"COOKING\":[\"Everyday Italian\",\"Giada De Laurentiis\",\"2005\",\"30.00\"],\"CHILDREN\":[\"Harry Potter\",\"J K.Rowling\",\"2005\",\"29.99\"],\"WEB\":[\"Learning XML\",\"Erik T. Ray\",\"2003\",\"39.95\"]}}\n",
    "list = [print(val) for i in bookstore.values() for val in i.values()]"
   ]
  },
  {
   "cell_type": "markdown",
   "metadata": {},
   "source": [
    "7.\tGiven a string, str1=\"\"”Python is a widely used high-level programming language for general-purpose programming, created by Guido van Rossum and first released in 1991. An interpreted language, Python has a design philosophy which emphasizes code readability (notably using whitespace indentation to delimit code blocks rather than curly braces or keywords), and a syntax which allows programmers to express concepts in fewer lines of code than possible in languages such as C++ or Java. The language provides constructs intended to enable writing clear programs on both a small and large scale .Python features a dynamic type system and automatic memory management and supports multiple programming paradigms, including object-oriented, imperative, functional programming, and procedural styles. It has a large and comprehensive standard library. Python interpreters are available for many operating systems, allowing Python code to run on a wide variety of systems. CPython, the reference implementation of Python, is open source software and has a community-based development model, as do nearly all of its variant implementations. CPython is managed by the non-profit Python Software Foundation.\"\"\" <br>\n",
    "a.\tBuild a dictionary, with \"words as key\" --> Frequency of occurrence as value<br>\n",
    "E.g. Python 7, is3<br>\n",
    "b.\tPrint the top 5 words with their frequency of occurrence\n"
   ]
  },
  {
   "cell_type": "code",
   "execution_count": 7,
   "metadata": {},
   "outputs": [
    {
     "name": "stdout",
     "output_type": "stream",
     "text": [
      "Top 5 occurances : \n",
      "\n",
      "The Word \" and \" came \" 8 \" times in this string\n",
      "The Word \" a \" came \" 8 \" times in this string\n",
      "The Word \" Python \" came \" 7 \" times in this string\n",
      "The Word \" to \" came \" 4 \" times in this string\n",
      "The Word \" programming \" came \" 4 \" times in this string\n"
     ]
    }
   ],
   "source": [
    "import re\n",
    "\n",
    "p = re.compile('\\W+')\n",
    "str1=\"Python is a widely used high-level programming language for general-purpose programming, created by Guido van Rossum and first released in 1991. An interpreted language, Python has a design philosophy which emphasizes code readability (notably using whitespace indentation to delimit code blocks rather than curly braces or keywords), and a syntax which allows programmers to express concepts in fewer lines of code than possible in languages such as C++ or Java. The language provides constructs intended to enable writing clear programs on both a small and large scale .Python features a dynamic type system and automatic memory management and supports multiple programming paradigms, including object-oriented, imperative, functional programming, and procedural styles. It has a large and comprehensive standard library. Python interpreters are available for many operating systems, allowing Python code to run on a wide variety of systems. CPython, the reference implementation of Python, is open source software and has a community-based development model, as do nearly all of its variant implementations. CPython is managed by the non-profit Python Software Foundation\"\n",
    "\n",
    "count_dict={}\n",
    " \n",
    "str_1 = p.split(str1)\n",
    "\n",
    "for i in set(str_1):\n",
    "     count_dict[i] = str_1.count(i)\n",
    "\n",
    "word_freq = []\n",
    "word_freq = sorted(((value,key) for (key,value) in count_dict.items()),reverse = True)\n",
    "\n",
    "print(\"Top 5 occurances : \\n\")\n",
    "for i in range(5):\n",
    "    \n",
    "    print(\"The Word \\\"\",word_freq[i][1] ,\"\\\" came \\\"\", word_freq[i][0],\"\\\" times in this string\")"
   ]
  },
  {
   "cell_type": "markdown",
   "metadata": {},
   "source": [
    "8.\tGiven a string, str1=\"\"”Python is a widely used high-level programming language for general-purpose programming, created by Guido van Rossum and first released in 1991. An interpreted language, Python has a design philosophy which emphasizes code readability (notably using whitespace indentation to delimit code blocks rather than curly braces or keywords), and a syntax which allows programmers to express concepts in fewer lines of code than possible in languages such as C++ or Java. The language provides constructs intended to enable writing clear programs on both a small and large scale .Python features a dynamic type system and automatic memory management and supports multiple programming paradigms, including object-oriented, imperative, functional programming, and procedural styles. It has a large and comprehensive standard library. Python interpreters are available for many operating systems, allowing Python code to run on a wide variety of systems. CPython, the reference implementation of Python, is open source software and has a community-based development model, as do nearly all of its variant implementations. CPython is managed by the non-profit Python Software Foundation.\"\"\" <br>\n",
    "Hint:  Assume that the first word is preceded by \" \" <br>\n",
    "a.\tBuild a dictionary where the key is a word and the value is the list of words that are likely to follow.<br>\n",
    "i.\tE.g. Python  [is, has, features, interpreters, code, Software]. In this example the words listed are likely to follow “Python”<br>\n",
    "b.\tGiven a word predict the word that’s likely to follow.\n"
   ]
  },
  {
   "cell_type": "code",
   "execution_count": 50,
   "metadata": {},
   "outputs": [
    {
     "name": "stdout",
     "output_type": "stream",
     "text": [
      "\"a\" is followed by ['widely', 'design', 'syntax', 'small', 'large', 'dynamic', 'large', 'wide', 'community-based']\n"
     ]
    }
   ],
   "source": [
    "str1=\"Python is a widely used high-level programming langauage for general-purpose prograaming, created by Guido van Rossum and first released in 1991. An interpreted language, Python has a design philosophy which emphasizes code readability (notably using whitespace indentation to delimit code blocks rather than curly braces or keywords), and a syntax which allows programmers to concpets in fewer lines of code than possible languages such as C++ or Java. The language provides constructs inteneded to enable writing clear programs on both a small scale and a large scale. Python featues a dynamic type system and sutomatic memory management and supports multiple programming paradgms,including object-oriented, imperative, functional programming, and procedural styles. It has a large and comprehensive standard library. Python interpreters are available for many operating systems, allowing Python code to run on a wide variety of systems. CPython , the reference implementation of Python, is opne source software and has a community-based development model, as do nearly all of its variant implementations. CPython os managed by the non-profit Python Software Foundation.\"\n",
    "\n",
    "def Dict_(string):\n",
    "    dic={}\n",
    "    words=string.split()\n",
    "    len=len(words)\n",
    "    for index,word in enumerate(words):\n",
    "        if dic.__contains__(word):\n",
    "            continue\n",
    "        tmpList=[]\n",
    "        for i in range(index,len):\n",
    "            if index==len-1:\n",
    "                break\n",
    "            if word==words[i]:\n",
    "                nextWord=words[i+1]\n",
    "                tmpList.append(nextWord)\n",
    "        print(word,tmpList)\n",
    "\n",
    "        dic[word]=tmpList\n",
    "    return dic\n",
    "\n",
    "def predict(str_,word):\n",
    "    wordDict=getDic(str_)\n",
    "    print (f\"\\\"{word}\\\" is followed by\",wordDict[word])\n",
    "\n",
    "predict(str1,\"a\")\n"
   ]
  },
  {
   "cell_type": "markdown",
   "metadata": {},
   "source": [
    "9.\t Below is the output of # show ip interface brief command on a router\n",
    "\n",
    "Interface\t\tIP-Address\tOK? \tMethod Status\tProtocol<br>\n",
    " \n",
    "FastEthernet0/0 \t192.168.1.242\t YES \t manual up\tup <br>\n",
    "FastEthernet1/0         unassigned\t YES \t unset\t\tdown<br> \n",
    "Serial2/0               \t192.168.1.250 \t YES \tmanual up\tup <br>\n",
    "Serial3/0               \t192.168.1.233 \t YES \tmanual up\tup <br>\n",
    "FastEthernet4/0         unassigned\t YES \t unset  \t\tdown\t<br>\n",
    "FastEthernet5/0         unassigned\t YES         unset \t\tdown<br>\n",
    "\n",
    "a.\tUse regular expressions to extract and display Interface and method status for all the interfaces.<br>\n",
    "i.\tE.g.  FastEthernet0/0, manual up\n"
   ]
  },
  {
   "cell_type": "code",
   "execution_count": 58,
   "metadata": {},
   "outputs": [
    {
     "name": "stdout",
     "output_type": "stream",
     "text": [
      "FastEthernet0/0 , manual up \n",
      "\n",
      "FastEthernet1/0 , unset \n",
      "\n",
      "Serial2/0 , manual up \n",
      "\n",
      "Serial3/0 , manual up \n",
      "\n",
      "FastEthernet4/0 , unset \n",
      "\n",
      "FastEthernet5/0 , unset \n",
      "\n"
     ]
    }
   ],
   "source": [
    "import re\n",
    "\n",
    "\n",
    "str1=\"\"\"Interface\t\tIP-Address\tOK? \tMethod Status\tProtocol\n",
    " \n",
    "FastEthernet0/0\t192.168.1.242\tYES \tmanual up\tup \n",
    "FastEthernet1/0        unassigned\tYES \tunset\t\tdown \n",
    "Serial2/0              \t192.168.1.250\tYES \tmanual up\tup \n",
    "Serial3/0              \t192.168.1.233\tYES \tmanual up\tup \n",
    "FastEthernet4/0        unassigned\tYES \tunset  \t\tdown\t\n",
    "FastEthernet5/0        unassigned\tYES        unset \t\tdown\"\"\"\n",
    "\n",
    "for line in str1.splitlines():\n",
    "\n",
    "    group = re.match( r'(\\w+\\d\\/\\d)\\s+[.0-9a-z]+\\s+\\w+\\s+(\\w+\\s?\\w+?)\\s+\\w+', line, re.M|re.I)\n",
    "\n",
    "    if group:\n",
    "        print ( matchObj.group(1),\",\",matchObj.group(2),\"\\n\")"
   ]
  },
  {
   "cell_type": "markdown",
   "metadata": {},
   "source": [
    "10.\tGiven a number line from -infinity to +infinity. You start at 0 and can go either to the left or to the right. The condition is that in i’th move, you take i steps. In the first move take 1 step, second move 2 steps and so on. <br>\n",
    "Hint: 3 can be reached in 2 steps (0, 1) (1, 3). 2 can be reached in 3 steps (0, 1) (1,-1) (-1, 2)<br>\n",
    "a) Find the optimal number of steps to reach position 1000000000 and -1000000000. \n"
   ]
  },
  {
   "cell_type": "code",
   "execution_count": 69,
   "metadata": {},
   "outputs": [
    {
     "name": "stdout",
     "output_type": "stream",
     "text": [
      "44723\n"
     ]
    }
   ],
   "source": [
    "\n",
    " \n",
    "def target(val) :\n",
    "    val = abs(val)\n",
    "    sum_ = 0\n",
    "    iter_ = 0\n",
    "    while ((sum_) < val or (sum_ - val) % 2 != 0) :\n",
    "        iter_ = iter_ + 1\n",
    "        sum_ = sum_ + iter_ \n",
    "    return iter_\n",
    "\n",
    "value = -1000000000\n",
    "print(target(value))"
   ]
  }
 ],
 "metadata": {
  "kernelspec": {
   "display_name": "Python 3",
   "language": "python",
   "name": "python3"
  },
  "language_info": {
   "codemirror_mode": {
    "name": "ipython",
    "version": 3
   },
   "file_extension": ".py",
   "mimetype": "text/x-python",
   "name": "python",
   "nbconvert_exporter": "python",
   "pygments_lexer": "ipython3",
   "version": "3.8.5"
  }
 },
 "nbformat": 4,
 "nbformat_minor": 4
}
